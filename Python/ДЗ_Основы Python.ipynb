{
 "cells": [
  {
   "cell_type": "markdown",
   "id": "f1798f2b",
   "metadata": {},
   "source": [
    "## Задание 1"
   ]
  },
  {
   "cell_type": "code",
   "execution_count": 1,
   "id": "756fec7b",
   "metadata": {},
   "outputs": [],
   "source": [
    "import math"
   ]
  },
  {
   "cell_type": "code",
   "execution_count": 2,
   "id": "dd0e39d5",
   "metadata": {},
   "outputs": [],
   "source": [
    "phrase_1 = 'Насколько проще было бы писать программы, если бы не заказчики'\n",
    "phrase_2 = 'Насколько проще было бы писать программы, если бы не заказчики'"
   ]
  },
  {
   "cell_type": "code",
   "execution_count": 3,
   "id": "cdb699db",
   "metadata": {},
   "outputs": [
    {
     "name": "stdout",
     "output_type": "stream",
     "text": [
      "Фразы равной длины\n"
     ]
    }
   ],
   "source": [
    "if len(phrase_1) > len(phrase_2):\n",
    "    print('Фраза 1 длиннее фразы 2')\n",
    "elif len(phrase_1) < len(phrase_2):\n",
    "    print('Фраза 2 длиннее фразы 1')\n",
    "else:\n",
    "    print('Фразы равной длины')"
   ]
  },
  {
   "cell_type": "markdown",
   "id": "093b56f1",
   "metadata": {},
   "source": [
    "## Задание 2"
   ]
  },
  {
   "cell_type": "code",
   "execution_count": 4,
   "id": "c5911599",
   "metadata": {},
   "outputs": [
    {
     "name": "stdout",
     "output_type": "stream",
     "text": [
      "Високосный год\n"
     ]
    }
   ],
   "source": [
    "year = 2016\n",
    "\n",
    "if (year % 4 == 0 and year % 100 != 0) or year % 400 == 0:\n",
    "    print('Високосный год')\n",
    "else:\n",
    "    print('Обычный год')"
   ]
  },
  {
   "cell_type": "markdown",
   "id": "897b6db7",
   "metadata": {},
   "source": [
    "## Задание 3"
   ]
  },
  {
   "cell_type": "code",
   "execution_count": 6,
   "id": "a9078860",
   "metadata": {},
   "outputs": [
    {
     "name": "stdout",
     "output_type": "stream",
     "text": [
      "Введить день - 1\n",
      "Введить месяц - февраль\n"
     ]
    }
   ],
   "source": [
    "day = int(input('Введить день - '))\n",
    "month = input('Введить месяц - ')"
   ]
  },
  {
   "cell_type": "code",
   "execution_count": 7,
   "id": "fcbc6698",
   "metadata": {},
   "outputs": [
    {
     "name": "stdout",
     "output_type": "stream",
     "text": [
      "Водолей\n"
     ]
    }
   ],
   "source": [
    "if month.lower() == 'январь':\n",
    "    if day >= 1 and day <= 20:\n",
    "        print('Козерог')\n",
    "    elif day >= 21 and day <= 31:\n",
    "        print('Водолей')\n",
    "    else:\n",
    "        print('Несуществующий день месяца')\n",
    "elif month.lower() == 'февраль':\n",
    "    if day >= 1 and day <= 18:\n",
    "        print('Водолей')\n",
    "    elif day >= 19 and day <= 28:\n",
    "        print('Рыбы')\n",
    "    else:\n",
    "        print('Несуществующий день месяца')\n",
    "elif month.lower() == 'март':\n",
    "    if day >= 1 and day <= 20:\n",
    "        print('Рыбы')\n",
    "    elif day >= 21 and day <= 31:\n",
    "        print('Овен')\n",
    "    else:\n",
    "        print('Несуществующий день месяца')\n",
    "elif month.lower() == 'апрель':\n",
    "    if day >= 1 and day <= 19:\n",
    "        print('Овен')\n",
    "    elif day >= 20 and day <= 30:\n",
    "        print('Телец')\n",
    "    else:\n",
    "        print('Несуществующий день месяца')\n",
    "elif month.lower() == 'май':\n",
    "    if day >= 1 and day <= 20:\n",
    "        print('Телец')\n",
    "    elif day >= 21 and day <= 31:\n",
    "        print('Близнецы')\n",
    "    else:\n",
    "        print('Несуществующий день месяца')\n",
    "elif month.lower() == 'июнь':\n",
    "    if day >= 1 and day <= 21:\n",
    "        print('Близнецы')\n",
    "    elif day >= 22 and day <= 30:\n",
    "        print('Рак')\n",
    "    else:\n",
    "        print('Несуществующий день месяца')\n",
    "elif month.lower() == 'июль':\n",
    "    if day >= 1 and day <= 22:\n",
    "        print('Рак')\n",
    "    elif day >= 23 and day <= 31:\n",
    "        print('Лев')\n",
    "    else:\n",
    "        print('Несуществующий день месяца')\n",
    "elif month.lower() == 'август':\n",
    "    if day >= 1 and day <= 22:\n",
    "        print('Лев')\n",
    "    elif day >= 23 and day <= 31:\n",
    "        print('Дева')\n",
    "    else:\n",
    "        print('Несуществующий день месяца')\n",
    "elif month.lower() == 'сентябрь':\n",
    "    if day >= 1 and day <= 22:\n",
    "        print('Дева')\n",
    "    elif day >= 23 and day <= 30:\n",
    "        print('Весы')\n",
    "    else:\n",
    "        print('Несуществующий день месяца')\n",
    "elif month.lower() == 'октябрь':\n",
    "    if day >= 1 and day <= 23:\n",
    "        print('Весы')\n",
    "    elif day >= 24 and day <= 31:\n",
    "        print('Скорпион')\n",
    "    else:\n",
    "        print('Несуществующий день месяца')\n",
    "elif month.lower() == 'ноябрь':\n",
    "    if day >= 1 and day <= 22:\n",
    "        print('Скорпион')\n",
    "    elif day >= 23 and day <= 30:\n",
    "        print('Стрелец')\n",
    "    else:\n",
    "        print('Несуществующий день месяца')\n",
    "elif month.lower() == 'декабрь':\n",
    "    if day >= 1 and day <= 21:\n",
    "        print('Стрелец')\n",
    "    elif day >= 22 and day <= 31:\n",
    "        print('Козерог')\n",
    "    else:\n",
    "        print('Несуществующий день месяца')\n",
    "else:\n",
    "    print('Ошибка в названии месяца!')\n",
    "    "
   ]
  },
  {
   "cell_type": "markdown",
   "id": "24c9b83c",
   "metadata": {},
   "source": [
    "## Задание 4"
   ]
  },
  {
   "cell_type": "code",
   "execution_count": 8,
   "id": "56d0dc38",
   "metadata": {},
   "outputs": [
    {
     "name": "stdout",
     "output_type": "stream",
     "text": [
      "Введите ширину - 15\n",
      "Введите длинну - 15\n",
      "Введите ширину - 15\n"
     ]
    }
   ],
   "source": [
    "width = int(input('Введите ширину - '))\n",
    "length = int(input('Введите длинну - '))\n",
    "height = int(input('Введите ширину - '))"
   ]
  },
  {
   "cell_type": "code",
   "execution_count": 9,
   "id": "056852df",
   "metadata": {},
   "outputs": [],
   "source": [
    "width = 15\n",
    "length = 50\n",
    "height = 15"
   ]
  },
  {
   "cell_type": "code",
   "execution_count": 10,
   "id": "3c2f82ff",
   "metadata": {},
   "outputs": [],
   "source": [
    "width = 45\n",
    "length = 205\n",
    "height = 45"
   ]
  },
  {
   "cell_type": "code",
   "execution_count": 11,
   "id": "d87fc2b7",
   "metadata": {},
   "outputs": [
    {
     "name": "stdout",
     "output_type": "stream",
     "text": [
      "Упаковка для лыж\n"
     ]
    }
   ],
   "source": [
    "if length > 200:\n",
    "    print('Упаковка для лыж')\n",
    "elif width < 15 and length < 15 and height < 15:\n",
    "    print('Коробка №1')\n",
    "elif (width > 15 and width < 50) or (length > 15 and length < 50) or (height > 15 and height < 50):\n",
    "    print('Коробка №2')\n",
    "else:\n",
    "    print('Стандартная коробка №3')"
   ]
  },
  {
   "cell_type": "markdown",
   "id": "89c1b8b2",
   "metadata": {},
   "source": [
    "## Задание 5"
   ]
  },
  {
   "cell_type": "code",
   "execution_count": 12,
   "id": "87ca6860",
   "metadata": {},
   "outputs": [],
   "source": [
    "num = 123321"
   ]
  },
  {
   "cell_type": "code",
   "execution_count": 13,
   "id": "69bd77c5",
   "metadata": {},
   "outputs": [],
   "source": [
    "res = [int(x) for x in str(num)]"
   ]
  },
  {
   "cell_type": "code",
   "execution_count": 14,
   "id": "4a072906",
   "metadata": {},
   "outputs": [
    {
     "name": "stdout",
     "output_type": "stream",
     "text": [
      "Счастливый билет\n"
     ]
    }
   ],
   "source": [
    "if res[0] + res[1] + res[2] == res[3] + res[4] + res[5]:\n",
    "    print('Счастливый билет')\n",
    "else:\n",
    "    print('Несчастливый билет')"
   ]
  },
  {
   "cell_type": "markdown",
   "id": "d41957a0",
   "metadata": {},
   "source": [
    "## Задание 6"
   ]
  },
  {
   "cell_type": "code",
   "execution_count": 26,
   "id": "5717e034",
   "metadata": {},
   "outputs": [
    {
     "name": "stdout",
     "output_type": "stream",
     "text": [
      "Введите тип фигуры - прямоугольник\n"
     ]
    }
   ],
   "source": [
    "figure_type = input('Введите тип фигуры - ')"
   ]
  },
  {
   "cell_type": "code",
   "execution_count": 27,
   "id": "f1cec27b",
   "metadata": {},
   "outputs": [
    {
     "name": "stdout",
     "output_type": "stream",
     "text": [
      "Введите сторону a - 5\n",
      "Введите сторону b - 5\n",
      "Площадь прямоугольника = 25.0\n"
     ]
    }
   ],
   "source": [
    "if figure_type.lower() == 'круг':\n",
    "    rd = float(input('Введите радиус круга - '))\n",
    "    print('Площадь круга = ' + str(math.pi * (rd**2)))\n",
    "    \n",
    "elif figure_type.lower() == 'треугольник':\n",
    "    a = float(input('Введите сторону a - '))\n",
    "    b = float(input('Введите сторону b - '))\n",
    "    c = float(input('Введите сторону c - '))\n",
    "    p=(a+b+c)/2\n",
    "    s=math.sqrt(p*(p-a)*(p-b)*(p-c))\n",
    "    print('Площадь треугольника = ' + str(s))\n",
    "    \n",
    "elif figure_type.lower() == 'прямоугольник':\n",
    "    a = float(input('Введите сторону a - '))\n",
    "    b = float(input('Введите сторону b - '))\n",
    "    print('Площадь прямоугольника = ' + str(a * b))\n",
    "    \n",
    "else:\n",
    "    print('Ошибка в названии фигуры!')"
   ]
  },
  {
   "cell_type": "code",
   "execution_count": null,
   "id": "eed1b514",
   "metadata": {},
   "outputs": [],
   "source": []
  }
 ],
 "metadata": {
  "kernelspec": {
   "display_name": "Python 3",
   "language": "python",
   "name": "python3"
  },
  "language_info": {
   "codemirror_mode": {
    "name": "ipython",
    "version": 3
   },
   "file_extension": ".py",
   "mimetype": "text/x-python",
   "name": "python",
   "nbconvert_exporter": "python",
   "pygments_lexer": "ipython3",
   "version": "3.8.8"
  }
 },
 "nbformat": 4,
 "nbformat_minor": 5
}
